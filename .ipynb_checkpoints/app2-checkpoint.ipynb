{
 "cells": [
  {
   "cell_type": "code",
   "execution_count": 2,
   "metadata": {},
   "outputs": [],
   "source": [
    "import pandas as pd"
   ]
  },
  {
   "cell_type": "code",
   "execution_count": 3,
   "metadata": {},
   "outputs": [],
   "source": [
    "import dash"
   ]
  },
  {
   "cell_type": "code",
   "execution_count": 4,
   "metadata": {},
   "outputs": [],
   "source": [
    "import dash_html_components as html"
   ]
  },
  {
   "cell_type": "code",
   "execution_count": 5,
   "metadata": {},
   "outputs": [],
   "source": [
    "import plotly.graph_objs as go"
   ]
  },
  {
   "cell_type": "code",
   "execution_count": 6,
   "metadata": {},
   "outputs": [],
   "source": [
    "import dash_core_components as dcc"
   ]
  },
  {
   "cell_type": "code",
   "execution_count": 7,
   "metadata": {},
   "outputs": [],
   "source": [
    "from jupyter_dash import JupyterDash"
   ]
  },
  {
   "cell_type": "code",
   "execution_count": 8,
   "metadata": {},
   "outputs": [],
   "source": [
    "from dash.dependencies import Input, Output"
   ]
  },
  {
   "cell_type": "code",
   "execution_count": 9,
   "metadata": {},
   "outputs": [],
   "source": [
    "import json"
   ]
  },
  {
   "cell_type": "code",
   "execution_count": 10,
   "metadata": {},
   "outputs": [],
   "source": [
    "import plotly.express as px"
   ]
  },
  {
   "cell_type": "code",
   "execution_count": 11,
   "metadata": {},
   "outputs": [],
   "source": [
    "with open('/Users/robcolaes/Desktop/Modern Data & Ethics/Modern Data Analytics - Project/uncovering_network-main/data2018.json') as json_file:\n",
    "    data_dict = json.load(json_file)\n",
    "    \n",
    "with open('/Users/robcolaes/Desktop/Modern Data & Ethics/Modern Data Analytics - Project/uncovering_network-main/names2018.json') as json_file:\n",
    "    names_dict = json.load(json_file)"
   ]
  },
  {
   "cell_type": "code",
   "execution_count": 12,
   "metadata": {},
   "outputs": [],
   "source": [
    "issuers_dict = data_dict.get('0000038777')\n",
    "df = pd.DataFrame(list(issuers_dict.items()),columns = ['Company','Total amount']) "
   ]
  },
  {
   "cell_type": "markdown",
   "metadata": {},
   "source": [
    "<h2>Web Application: Uncovering the network<h2>"
   ]
  },
  {
   "cell_type": "code",
   "execution_count": 13,
   "metadata": {},
   "outputs": [],
   "source": [
    "external_stylesheets = ['https://codepen.io/chriddyp/pen/bWLwgP.css']\n",
    "\n",
    "app = JupyterDash(__name__, external_stylesheets=external_stylesheets)\n",
    "\n",
    "# Create server variable with Flask server object for use with gunicorn\n",
    "server = app.server\n",
    "\n",
    "# App Layout & Callbacks\n",
    "app.layout = html.Div([\n",
    "    \n",
    "    html.Div([\n",
    "        dcc.Dropdown(\n",
    "                id='left-year-selection',\n",
    "                options=[\n",
    "                        {'label': '2018', 'value': '2018'},\n",
    "                        {'label': '2019', 'value': '2019'},\n",
    "                        {'label': '2020', 'value': '2020'},\n",
    "                        {'label': '2021', 'value': '2021'}\n",
    "                ],\n",
    "                value='2018'\n",
    "        ),\n",
    "        \n",
    "        dcc.Dropdown(\n",
    "                id='left-cik-selection',\n",
    "                options=[{'label': i, 'value': i} for i in data_dict.keys()],\n",
    "                value='0001126328',\n",
    "                placeholder='Select a CIK'\n",
    "        ),\n",
    "        \n",
    "        dcc.Graph(id='left-graph'),\n",
    "         \n",
    "        html.Div(id=\"left-total\")\n",
    "        \n",
    "    ],\n",
    "    style={'width': '48%', 'display': 'inline-block'}),\n",
    "    \n",
    "    html.Div([\n",
    "        dcc.Dropdown(\n",
    "                id='right-year-selection',\n",
    "                options=[\n",
    "                        {'label': '2018', 'value': '2018'},\n",
    "                        {'label': '2019', 'value': '2019'},\n",
    "                        {'label': '2020', 'value': '2020'},\n",
    "                        {'label': '2021', 'value': '2021'}\n",
    "                ],\n",
    "                value='2018'\n",
    "        ),\n",
    "        dcc.Dropdown(\n",
    "                id='right-cik-selection',\n",
    "                options=[{'label': i, 'value': i} for i in data_dict.keys()],\n",
    "                value='0001126328',\n",
    "                placeholder='Select a CIK'\n",
    "        ),\n",
    "        \n",
    "        dcc.Graph(id='right-graph'),\n",
    "        \n",
    "        html.Div(id=\"right-total\")\n",
    "        \n",
    "    ],\n",
    "    style={'width': '48%', 'float': 'right', 'display': 'inline-block'})\n",
    "    \n",
    "    \n",
    "    ]                  \n",
    ")\n",
    "\n",
    "\n",
    "@app.callback(\n",
    "    Output('left-graph', 'figure'),\n",
    "    Input('left-year-selection', 'value'),\n",
    "    Input('left-cik-selection','value'))\n",
    "def update_graph(year_value,cik_value):\n",
    "    \n",
    "    directory=\"/Users/robcolaes/Desktop/Modern Data & Ethics/Modern Data Analytics - Project/uncovering_network-main/data\"+str(year_value)+\".json\"\n",
    "    directory2=\"/Users/robcolaes/Desktop/Modern Data & Ethics/Modern Data Analytics - Project/uncovering_network-main/names\"+str(year_value)+\".json\"\n",
    "    \n",
    "    with open(directory) as json_file:\n",
    "        data_dict = json.load(json_file)\n",
    "        \n",
    "    with open(directory2) as json_file2:\n",
    "        names_dict = json.load(json_file2)\n",
    "    \n",
    "    companyname = names_dict.get(cik_value)\n",
    "    \n",
    "    issuers_dict = data_dict.get(cik_value)\n",
    "    df = pd.DataFrame(list(issuers_dict.items()),columns = ['Company','Total amount']) \n",
    "    df10 = df.nlargest(10, columns='Total amount')\n",
    "    \n",
    "    fig = px.pie(df10, values='Total amount', names='Company', color_discrete_sequence=px.colors.sequential.RdBu, title=companyname)\n",
    "    fig.update_traces(hoverinfo='label+percent', textinfo='value')\n",
    "    fig.update_layout(legend_font_size=5)\n",
    "    \n",
    "    return fig\n",
    "  \n",
    "@app.callback(\n",
    "    Output(\"left-total\", \"children\"),\n",
    "    Input('left-year-selection', 'value'),\n",
    "    Input('left-cik-selection','value'))\n",
    "def update_output(year_value,cik_value):\n",
    "    \n",
    "    directory=\"/Users/robcolaes/Desktop/Modern Data & Ethics/Modern Data Analytics - Project/uncovering_network-main/data\"+str(year_value)+\".json\"\n",
    "    \n",
    "    with open(directory) as json_file:\n",
    "        data_dict = json.load(json_file)\n",
    "    \n",
    "    issuers_dict = data_dict.get(cik_value)\n",
    "    df = pd.DataFrame(list(issuers_dict.items()),columns = ['Company','Total amount'])\n",
    "    \n",
    "    total = df['Total amount'].sum()\n",
    "    \n",
    "    return u'Total amount of stocks: {:,}'.format(total)\n",
    "\n",
    "\n",
    "@app.callback(\n",
    "    Output('right-graph', 'figure'),\n",
    "    Input('right-year-selection', 'value'),\n",
    "    Input('right-cik-selection','value'))\n",
    "def update_graph(year_value,cik_value):\n",
    "    \n",
    "    directory=\"/Users/robcolaes/Desktop/Modern Data & Ethics/Modern Data Analytics - Project/uncovering_network-main/data\"+str(year_value)+\".json\"\n",
    "    directory2=\"/Users/robcolaes/Desktop/Modern Data & Ethics/Modern Data Analytics - Project/uncovering_network-main/names\"+str(year_value)+\".json\"\n",
    "    \n",
    "    with open(directory) as json_file:\n",
    "        data_dict = json.load(json_file)\n",
    "        \n",
    "    with open(directory2) as json_file2:\n",
    "        names_dict = json.load(json_file2)\n",
    "    \n",
    "    companyname = names_dict.get(cik_value)\n",
    "    \n",
    "    issuers_dict = data_dict.get(cik_value)\n",
    "    df = pd.DataFrame(list(issuers_dict.items()),columns = ['Company','Total amount']) \n",
    "    df10 = df.nlargest(10, columns='Total amount')\n",
    "    \n",
    "    fig = px.pie(df10, values='Total amount', names='Company', color_discrete_sequence=px.colors.sequential.RdBu, title=companyname)\n",
    "    fig.update_traces(hoverinfo='label+percent', textinfo='value')\n",
    "    fig.update_layout(legend_font_size=5)\n",
    "    \n",
    "    return fig\n",
    "\n",
    "@app.callback(\n",
    "    Output(\"right-total\", \"children\"),\n",
    "    Input('right-year-selection', 'value'),\n",
    "    Input('right-cik-selection','value'))\n",
    "def update_output(year_value,cik_value):\n",
    "    \n",
    "    directory=\"/Users/robcolaes/Desktop/Modern Data & Ethics/Modern Data Analytics - Project/uncovering_network-main/data\"+str(year_value)+\".json\"\n",
    "    \n",
    "    with open(directory) as json_file:\n",
    "        data_dict = json.load(json_file)\n",
    "    \n",
    "    issuers_dict = data_dict.get(cik_value)\n",
    "    df = pd.DataFrame(list(issuers_dict.items()),columns = ['Company','Total amount'])\n",
    "    high = df.nlargest(1, columns='Total amount')\n",
    "    \n",
    "    total = df['Total amount'].sum()\n",
    "    \n",
    "    return u'Total amount of stocks: {:,}'.format(total)\n",
    "\n",
    "@app.callback(\n",
    "    Output('left-cik-selection','options'),\n",
    "    Input('left-year-selection', 'value'))\n",
    "def update_left_dropdown(year_value):\n",
    "    \n",
    "    directory=\"/Users/robcolaes/Desktop/Modern Data & Ethics/Modern Data Analytics - Project/uncovering_network-main/data\"+str(year_value)+\".json\"\n",
    "\n",
    "    with open(directory) as json_file:\n",
    "        data_dict = json.load(json_file)\n",
    "        \n",
    "    return [{'label':i,'value':i} for i in data_dict.keys()]\n",
    "\n",
    "\n",
    "@app.callback(\n",
    "    Output('right-cik-selection','options'),\n",
    "    Input('right-year-selection', 'value'))\n",
    "def update_left_dropdown(year_value):\n",
    "    \n",
    "    directory=\"/Users/robcolaes/Desktop/Modern Data & Ethics/Modern Data Analytics - Project/uncovering_network-main/data\"+str(year_value)+\".json\"\n",
    "    \n",
    "    with open(directory) as json_file:\n",
    "        data_dict = json.load(json_file)\n",
    "        \n",
    "    return [{'label':i,'value':i} for i in data_dict.keys()]\n"
   ]
  },
  {
   "cell_type": "code",
   "execution_count": 14,
   "metadata": {},
   "outputs": [
    {
     "data": {
      "text/html": [
       "\n",
       "        <iframe\n",
       "            width=\"100%\"\n",
       "            height=\"650\"\n",
       "            src=\"http://localhost:8004/\"\n",
       "            frameborder=\"0\"\n",
       "            allowfullscreen\n",
       "        ></iframe>\n",
       "        "
      ],
      "text/plain": [
       "<IPython.lib.display.IFrame at 0x7fe31fff20d0>"
      ]
     },
     "metadata": {},
     "output_type": "display_data"
    }
   ],
   "source": [
    "app.run_server(mode=\"inline\", host=\"localhost\",port=8004)"
   ]
  }
 ],
 "metadata": {
  "kernelspec": {
   "display_name": "Python 3",
   "language": "python",
   "name": "python3"
  },
  "language_info": {
   "codemirror_mode": {
    "name": "ipython",
    "version": 3
   },
   "file_extension": ".py",
   "mimetype": "text/x-python",
   "name": "python",
   "nbconvert_exporter": "python",
   "pygments_lexer": "ipython3",
   "version": "3.8.5"
  }
 },
 "nbformat": 4,
 "nbformat_minor": 4
}
